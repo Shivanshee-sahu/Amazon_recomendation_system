{
 "cells": [
  {
   "cell_type": "code",
   "execution_count": 27,
   "id": "4d6ebc0f-b49d-417c-9d41-a0fccce2f715",
   "metadata": {},
   "outputs": [],
   "source": [
    "import pandas as pd\n",
    "from sklearn.feature_extraction.text import TfidfVectorizer\n",
    "from sklearn.metrics.pairwise import linear_kernel, cosine_similarity  "
   ]
  },
  {
   "cell_type": "code",
   "execution_count": 28,
   "id": "cf58cfbe-6113-45ac-9059-1c39469d9ec4",
   "metadata": {},
   "outputs": [],
   "source": [
    "\n",
    "df = pd.read_csv('amazon.csv')\n",
    "\n",
    "df['product_name'] = df['product_name'].fillna('')\n",
    "df['about_product'] = df['about_product'].fillna('')\n",
    "df['category'] = df['category'].fillna('')\n",
    "\n",
    "df['combined'] = df['product_name'] + ' ' + df['about_product'] + ' ' + df['category']\n"
   ]
  },
  {
   "cell_type": "code",
   "execution_count": 29,
   "id": "7ddcc5af-5142-4124-b345-e522db653f74",
   "metadata": {},
   "outputs": [],
   "source": [
    "# Vectorize the combined text\n",
    "tfidf = TfidfVectorizer(stop_words='english')\n",
    "tfidf_matrix = tfidf.fit_transform(df['combined'])\n",
    "\n",
    "cosine_sim = linear_kernel(tfidf_matrix, tfidf_matrix)\n"
   ]
  },
  {
   "cell_type": "code",
   "execution_count": 30,
   "id": "6324d1d2-0e8a-4f97-a34c-5bff7ecce303",
   "metadata": {},
   "outputs": [],
   "source": [
    "\n",
    "def get_recommendations(query, top_n=5):\n",
    "   \n",
    "    query_vec = tfidf.transform([query])\n",
    "    \n",
    "   \n",
    "    sim_scores = cosine_similarity(query_vec, tfidf_matrix).flatten()\n",
    "    \n",
    "  \n",
    "    top_indices = sim_scores.argsort()[-top_n:][::-1]\n",
    "\n",
    "    recommendations = []\n",
    "    for idx in top_indices:\n",
    "        recommendations.append({\n",
    "            'Title': df.iloc[idx]['product_name'],\n",
    "            'Similarity': round(sim_scores[idx], 3),\n",
    "            'Image': df.iloc[idx]['img_link'],\n",
    "            'Price': df.iloc[idx]['discounted_price'],\n",
    "            'Rating': df.iloc[idx]['rating']\n",
    "        })\n",
    "\n",
    "    return pd.DataFrame(recommendations)\n"
   ]
  },
  {
   "cell_type": "code",
   "execution_count": 31,
   "id": "92d673f0-ccdb-476f-83e5-b3f0f3905333",
   "metadata": {},
   "outputs": [
    {
     "data": {
      "text/html": [
       "<div>\n",
       "<style scoped>\n",
       "    .dataframe tbody tr th:only-of-type {\n",
       "        vertical-align: middle;\n",
       "    }\n",
       "\n",
       "    .dataframe tbody tr th {\n",
       "        vertical-align: top;\n",
       "    }\n",
       "\n",
       "    .dataframe thead th {\n",
       "        text-align: right;\n",
       "    }\n",
       "</style>\n",
       "<table border=\"1\" class=\"dataframe\">\n",
       "  <thead>\n",
       "    <tr style=\"text-align: right;\">\n",
       "      <th></th>\n",
       "      <th>Title</th>\n",
       "      <th>Similarity</th>\n",
       "      <th>Image</th>\n",
       "      <th>Price</th>\n",
       "      <th>Rating</th>\n",
       "    </tr>\n",
       "  </thead>\n",
       "  <tbody>\n",
       "    <tr>\n",
       "      <th>0</th>\n",
       "      <td>boAt Rugged V3 Braided Micro USB Cable (Pearl ...</td>\n",
       "      <td>0.319</td>\n",
       "      <td>https://m.media-amazon.com/images/W/WEBP_40237...</td>\n",
       "      <td>₹299</td>\n",
       "      <td>4.2</td>\n",
       "    </tr>\n",
       "    <tr>\n",
       "      <th>1</th>\n",
       "      <td>boAt Rugged v3 Extra Tough Unbreakable Braided...</td>\n",
       "      <td>0.309</td>\n",
       "      <td>https://m.media-amazon.com/images/I/41SDfuK7L2...</td>\n",
       "      <td>₹299</td>\n",
       "      <td>4.2</td>\n",
       "    </tr>\n",
       "    <tr>\n",
       "      <th>2</th>\n",
       "      <td>boAt Rugged v3 Extra Tough Unbreakable Braided...</td>\n",
       "      <td>0.309</td>\n",
       "      <td>https://m.media-amazon.com/images/I/41SDfuK7L2...</td>\n",
       "      <td>₹299</td>\n",
       "      <td>4.2</td>\n",
       "    </tr>\n",
       "    <tr>\n",
       "      <th>3</th>\n",
       "      <td>Sounce Protective Case Cover Compatible Boat X...</td>\n",
       "      <td>0.286</td>\n",
       "      <td>https://m.media-amazon.com/images/I/4155YhLwDi...</td>\n",
       "      <td>₹199</td>\n",
       "      <td>4.0</td>\n",
       "    </tr>\n",
       "    <tr>\n",
       "      <th>4</th>\n",
       "      <td>boAt Type C A750 Stress Resistant, Tangle-free...</td>\n",
       "      <td>0.240</td>\n",
       "      <td>https://m.media-amazon.com/images/I/41jlh3c7Ub...</td>\n",
       "      <td>₹399</td>\n",
       "      <td>4.1</td>\n",
       "    </tr>\n",
       "  </tbody>\n",
       "</table>\n",
       "</div>"
      ],
      "text/plain": [
       "                                               Title  Similarity  \\\n",
       "0  boAt Rugged V3 Braided Micro USB Cable (Pearl ...       0.319   \n",
       "1  boAt Rugged v3 Extra Tough Unbreakable Braided...       0.309   \n",
       "2  boAt Rugged v3 Extra Tough Unbreakable Braided...       0.309   \n",
       "3  Sounce Protective Case Cover Compatible Boat X...       0.286   \n",
       "4  boAt Type C A750 Stress Resistant, Tangle-free...       0.240   \n",
       "\n",
       "                                               Image Price Rating  \n",
       "0  https://m.media-amazon.com/images/W/WEBP_40237...  ₹299    4.2  \n",
       "1  https://m.media-amazon.com/images/I/41SDfuK7L2...  ₹299    4.2  \n",
       "2  https://m.media-amazon.com/images/I/41SDfuK7L2...  ₹299    4.2  \n",
       "3  https://m.media-amazon.com/images/I/4155YhLwDi...  ₹199    4.0  \n",
       "4  https://m.media-amazon.com/images/I/41jlh3c7Ub...  ₹399    4.1  "
      ]
     },
     "execution_count": 31,
     "metadata": {},
     "output_type": "execute_result"
    }
   ],
   "source": [
    "\n",
    "product_to_search = \"boAt\"\n",
    "\n",
    "recommendations = get_recommendations(product_to_search, top_n=5)\n",
    "recommendations\n"
   ]
  },
  {
   "cell_type": "code",
   "execution_count": 32,
   "id": "ad623a89-3146-4a4d-9700-8d39d66a61b9",
   "metadata": {},
   "outputs": [],
   "source": [
    "import pickle\n",
    "\n",
    "# Save the TF-IDF vectorizer and matrix\n",
    "with open('tfidf_vectorizer.pkl', 'wb') as f:\n",
    "    pickle.dump(tfidf, f)\n",
    "\n",
    "with open('tfidf_matrix.pkl', 'wb') as f:\n",
    "    pickle.dump(tfidf_matrix, f)\n",
    "\n",
    "# Save the DataFrame too (optional but useful for metadata like product titles)\n",
    "with open('products_df.pkl', 'wb') as f:\n",
    "    pickle.dump(df, f)\n"
   ]
  },
  {
   "cell_type": "code",
   "execution_count": null,
   "id": "5342d05b-153f-4d09-b753-e8e48d7ffcf5",
   "metadata": {},
   "outputs": [],
   "source": []
  }
 ],
 "metadata": {
  "kernelspec": {
   "display_name": "Python 3 (ipykernel)",
   "language": "python",
   "name": "python3"
  },
  "language_info": {
   "codemirror_mode": {
    "name": "ipython",
    "version": 3
   },
   "file_extension": ".py",
   "mimetype": "text/x-python",
   "name": "python",
   "nbconvert_exporter": "python",
   "pygments_lexer": "ipython3",
   "version": "3.11.9"
  }
 },
 "nbformat": 4,
 "nbformat_minor": 5
}
